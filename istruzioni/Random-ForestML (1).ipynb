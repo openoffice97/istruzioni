{
 "cells": [
  {
   "cell_type": "code",
   "execution_count": 117,
   "metadata": {
    "colab": {},
    "colab_type": "code",
    "id": "E8xMGfRpmSFo"
   },
   "outputs": [],
   "source": [
    "import pandas as pd\n",
    "\n",
    "original = pd.read_csv(r'iceNoIce (2).csv', sep=',', engine = 'python')"
   ]
  },
  {
   "cell_type": "code",
   "execution_count": 124,
   "metadata": {
    "colab": {
     "base_uri": "https://localhost:8080/",
     "height": 36
    },
    "colab_type": "code",
    "id": "-OX43zyom1B8",
    "outputId": "8589a42b-6bf5-4e0e-f50c-b02ef5535b4e"
   },
   "outputs": [
    {
     "data": {
      "text/plain": [
       "1"
      ]
     },
     "execution_count": 124,
     "metadata": {},
     "output_type": "execute_result"
    }
   ],
   "source": [
    "int(original['Unnamed: 1'][0])"
   ]
  },
  {
   "cell_type": "code",
   "execution_count": 125,
   "metadata": {
    "colab": {},
    "colab_type": "code",
    "id": "wIyEd1yCNK9x"
   },
   "outputs": [],
   "source": [
    "x= []\n",
    "y = []"
   ]
  },
  {
   "cell_type": "code",
   "execution_count": 123,
   "metadata": {
    "colab": {},
    "colab_type": "code",
    "id": "TOHFqdUGl79L"
   },
   "outputs": [],
   "source": [
    "\n",
    "import numpy as np\n",
    "import pandas as pd\n",
    "import matplotlib.pyplot as plt\n",
    "from scipy.signal import find_peaks as fp\n",
    "N_FILE=9\n",
    "FOLDER=''\n",
    "\n",
    "for index in range(1,N_FILE+135):\n",
    "    if index not in [21,24,54,95,33,3,96,136,99,61,100,98,41,64,97,7,65,12,76,8,17,14,18,104,111,15,10,116,119,145,146,171]:\n",
    "        #print(index)\n",
    "        data=None\n",
    "        data=pd.read_csv(FOLDER+'Test#'+str(index)+'.txt',sep='\\t',header=None)\n",
    "        #print(data.head())\n",
    "        data.columns = [\"Date\", \"Time_Peltier_On\", \"Temp\", \"Element\",\"v1\",\"v2\",\"T1\",\"T2\"]\n",
    "        #print(data.head())\n",
    "        df = data.drop([\"Time_Peltier_On\",\"Element\",\"Date\", \"Temp\",\"v1\",\"v2\",\"T2\"], axis=1)\n",
    "        df.head()\n",
    "        tmp=int(original['Unnamed: 1'][index])\n",
    "\n",
    "        for i in range(0,df.shape[0]-11, 10):\n",
    "          x.append(df.loc[i:(i+10)]['T1'].values)\n",
    "          y.append(tmp)\n",
    "\n",
    "\n",
    "\n"
   ]
  },
  {
   "cell_type": "code",
   "execution_count": 115,
   "metadata": {
    "colab": {
     "base_uri": "https://localhost:8080/",
     "height": 36
    },
    "colab_type": "code",
    "id": "aY_NdY1nM438",
    "outputId": "aa13cbc4-66c8-462b-ef2e-3e79f50ab85e"
   },
   "outputs": [
    {
     "data": {
      "text/plain": [
       "list"
      ]
     },
     "execution_count": 115,
     "metadata": {},
     "output_type": "execute_result"
    }
   ],
   "source": [
    "type(x)"
   ]
  },
  {
   "cell_type": "code",
   "execution_count": 116,
   "metadata": {
    "colab": {
     "base_uri": "https://localhost:8080/",
     "height": 206
    },
    "colab_type": "code",
    "id": "dwgubWihM8uP",
    "outputId": "1ad22742-dbb4-49a0-e340-f4a8ad4ae8fe"
   },
   "outputs": [
    {
     "data": {
      "text/html": [
       "<div>\n",
       "<style scoped>\n",
       "    .dataframe tbody tr th:only-of-type {\n",
       "        vertical-align: middle;\n",
       "    }\n",
       "\n",
       "    .dataframe tbody tr th {\n",
       "        vertical-align: top;\n",
       "    }\n",
       "\n",
       "    .dataframe thead th {\n",
       "        text-align: right;\n",
       "    }\n",
       "</style>\n",
       "<table border=\"1\" class=\"dataframe\">\n",
       "  <thead>\n",
       "    <tr style=\"text-align: right;\">\n",
       "      <th></th>\n",
       "      <th>0</th>\n",
       "      <th>1</th>\n",
       "      <th>2</th>\n",
       "      <th>3</th>\n",
       "      <th>4</th>\n",
       "      <th>5</th>\n",
       "      <th>6</th>\n",
       "      <th>7</th>\n",
       "      <th>8</th>\n",
       "      <th>9</th>\n",
       "      <th>10</th>\n",
       "      <th>label</th>\n",
       "    </tr>\n",
       "  </thead>\n",
       "  <tbody>\n",
       "    <tr>\n",
       "      <td>0</td>\n",
       "      <td>8.768</td>\n",
       "      <td>8.652</td>\n",
       "      <td>8.533</td>\n",
       "      <td>8.431</td>\n",
       "      <td>8.331</td>\n",
       "      <td>8.229</td>\n",
       "      <td>8.144</td>\n",
       "      <td>8.083</td>\n",
       "      <td>8.006</td>\n",
       "      <td>7.917</td>\n",
       "      <td>7.840</td>\n",
       "      <td>1</td>\n",
       "    </tr>\n",
       "    <tr>\n",
       "      <td>1</td>\n",
       "      <td>7.840</td>\n",
       "      <td>7.801</td>\n",
       "      <td>7.743</td>\n",
       "      <td>7.688</td>\n",
       "      <td>7.630</td>\n",
       "      <td>7.575</td>\n",
       "      <td>7.567</td>\n",
       "      <td>7.517</td>\n",
       "      <td>7.467</td>\n",
       "      <td>7.470</td>\n",
       "      <td>7.395</td>\n",
       "      <td>1</td>\n",
       "    </tr>\n",
       "    <tr>\n",
       "      <td>2</td>\n",
       "      <td>7.395</td>\n",
       "      <td>7.357</td>\n",
       "      <td>7.310</td>\n",
       "      <td>7.285</td>\n",
       "      <td>7.266</td>\n",
       "      <td>7.260</td>\n",
       "      <td>7.210</td>\n",
       "      <td>7.180</td>\n",
       "      <td>7.150</td>\n",
       "      <td>7.130</td>\n",
       "      <td>7.056</td>\n",
       "      <td>1</td>\n",
       "    </tr>\n",
       "    <tr>\n",
       "      <td>3</td>\n",
       "      <td>7.056</td>\n",
       "      <td>7.050</td>\n",
       "      <td>7.039</td>\n",
       "      <td>6.995</td>\n",
       "      <td>6.984</td>\n",
       "      <td>6.931</td>\n",
       "      <td>6.945</td>\n",
       "      <td>6.898</td>\n",
       "      <td>6.879</td>\n",
       "      <td>6.846</td>\n",
       "      <td>6.832</td>\n",
       "      <td>1</td>\n",
       "    </tr>\n",
       "    <tr>\n",
       "      <td>4</td>\n",
       "      <td>6.832</td>\n",
       "      <td>6.807</td>\n",
       "      <td>6.771</td>\n",
       "      <td>6.730</td>\n",
       "      <td>6.711</td>\n",
       "      <td>6.680</td>\n",
       "      <td>6.655</td>\n",
       "      <td>6.639</td>\n",
       "      <td>6.622</td>\n",
       "      <td>6.603</td>\n",
       "      <td>6.568</td>\n",
       "      <td>1</td>\n",
       "    </tr>\n",
       "    <tr>\n",
       "      <td>5</td>\n",
       "      <td>6.568</td>\n",
       "      <td>6.527</td>\n",
       "      <td>6.530</td>\n",
       "      <td>6.483</td>\n",
       "      <td>6.488</td>\n",
       "      <td>6.452</td>\n",
       "      <td>6.427</td>\n",
       "      <td>6.378</td>\n",
       "      <td>6.372</td>\n",
       "      <td>6.336</td>\n",
       "      <td>6.312</td>\n",
       "      <td>1</td>\n",
       "    </tr>\n",
       "    <tr>\n",
       "      <td>6</td>\n",
       "      <td>6.312</td>\n",
       "      <td>6.303</td>\n",
       "      <td>6.273</td>\n",
       "      <td>6.229</td>\n",
       "      <td>6.212</td>\n",
       "      <td>6.207</td>\n",
       "      <td>6.168</td>\n",
       "      <td>6.162</td>\n",
       "      <td>6.116</td>\n",
       "      <td>6.091</td>\n",
       "      <td>6.060</td>\n",
       "      <td>1</td>\n",
       "    </tr>\n",
       "    <tr>\n",
       "      <td>7</td>\n",
       "      <td>6.060</td>\n",
       "      <td>6.033</td>\n",
       "      <td>6.011</td>\n",
       "      <td>5.972</td>\n",
       "      <td>5.988</td>\n",
       "      <td>5.930</td>\n",
       "      <td>5.917</td>\n",
       "      <td>5.881</td>\n",
       "      <td>5.870</td>\n",
       "      <td>5.828</td>\n",
       "      <td>5.815</td>\n",
       "      <td>1</td>\n",
       "    </tr>\n",
       "    <tr>\n",
       "      <td>8</td>\n",
       "      <td>5.815</td>\n",
       "      <td>5.770</td>\n",
       "      <td>5.748</td>\n",
       "      <td>5.729</td>\n",
       "      <td>5.679</td>\n",
       "      <td>5.668</td>\n",
       "      <td>5.654</td>\n",
       "      <td>5.605</td>\n",
       "      <td>5.594</td>\n",
       "      <td>5.547</td>\n",
       "      <td>5.525</td>\n",
       "      <td>1</td>\n",
       "    </tr>\n",
       "    <tr>\n",
       "      <td>9</td>\n",
       "      <td>5.525</td>\n",
       "      <td>5.522</td>\n",
       "      <td>5.483</td>\n",
       "      <td>5.475</td>\n",
       "      <td>5.445</td>\n",
       "      <td>5.403</td>\n",
       "      <td>5.370</td>\n",
       "      <td>5.376</td>\n",
       "      <td>5.351</td>\n",
       "      <td>5.320</td>\n",
       "      <td>5.273</td>\n",
       "      <td>1</td>\n",
       "    </tr>\n",
       "  </tbody>\n",
       "</table>\n",
       "</div>"
      ],
      "text/plain": [
       "       0      1      2      3      4      5      6      7      8      9  \\\n",
       "0  8.768  8.652  8.533  8.431  8.331  8.229  8.144  8.083  8.006  7.917   \n",
       "1  7.840  7.801  7.743  7.688  7.630  7.575  7.567  7.517  7.467  7.470   \n",
       "2  7.395  7.357  7.310  7.285  7.266  7.260  7.210  7.180  7.150  7.130   \n",
       "3  7.056  7.050  7.039  6.995  6.984  6.931  6.945  6.898  6.879  6.846   \n",
       "4  6.832  6.807  6.771  6.730  6.711  6.680  6.655  6.639  6.622  6.603   \n",
       "5  6.568  6.527  6.530  6.483  6.488  6.452  6.427  6.378  6.372  6.336   \n",
       "6  6.312  6.303  6.273  6.229  6.212  6.207  6.168  6.162  6.116  6.091   \n",
       "7  6.060  6.033  6.011  5.972  5.988  5.930  5.917  5.881  5.870  5.828   \n",
       "8  5.815  5.770  5.748  5.729  5.679  5.668  5.654  5.605  5.594  5.547   \n",
       "9  5.525  5.522  5.483  5.475  5.445  5.403  5.370  5.376  5.351  5.320   \n",
       "\n",
       "      10  label  \n",
       "0  7.840      1  \n",
       "1  7.395      1  \n",
       "2  7.056      1  \n",
       "3  6.832      1  \n",
       "4  6.568      1  \n",
       "5  6.312      1  \n",
       "6  6.060      1  \n",
       "7  5.815      1  \n",
       "8  5.525      1  \n",
       "9  5.273      1  "
      ]
     },
     "execution_count": 116,
     "metadata": {},
     "output_type": "execute_result"
    }
   ],
   "source": [
    "data= pd.DataFrame(x)\n",
    "data['label']=y\n",
    "data.head(10)"
   ]
  },
  {
   "cell_type": "code",
   "execution_count": 92,
   "metadata": {
    "colab": {},
    "colab_type": "code",
    "id": "M9C7dwaQ5s-w"
   },
   "outputs": [],
   "source": [
    "tmp=data"
   ]
  },
  {
   "cell_type": "code",
   "execution_count": 93,
   "metadata": {
    "colab": {
     "base_uri": "https://localhost:8080/",
     "height": 424
    },
    "colab_type": "code",
    "id": "buHoTLRUTY_x",
    "outputId": "6c8ab12a-296e-4311-bc41-d0ca6a579e80"
   },
   "outputs": [
    {
     "data": {
      "text/html": [
       "<div>\n",
       "<style scoped>\n",
       "    .dataframe tbody tr th:only-of-type {\n",
       "        vertical-align: middle;\n",
       "    }\n",
       "\n",
       "    .dataframe tbody tr th {\n",
       "        vertical-align: top;\n",
       "    }\n",
       "\n",
       "    .dataframe thead th {\n",
       "        text-align: right;\n",
       "    }\n",
       "</style>\n",
       "<table border=\"1\" class=\"dataframe\">\n",
       "  <thead>\n",
       "    <tr style=\"text-align: right;\">\n",
       "      <th></th>\n",
       "      <th>0</th>\n",
       "      <th>1</th>\n",
       "      <th>2</th>\n",
       "      <th>3</th>\n",
       "      <th>4</th>\n",
       "      <th>5</th>\n",
       "      <th>6</th>\n",
       "      <th>7</th>\n",
       "      <th>8</th>\n",
       "      <th>9</th>\n",
       "      <th>10</th>\n",
       "      <th>label</th>\n",
       "    </tr>\n",
       "  </thead>\n",
       "  <tbody>\n",
       "    <tr>\n",
       "      <td>0</td>\n",
       "      <td>8.768</td>\n",
       "      <td>8.652</td>\n",
       "      <td>8.533</td>\n",
       "      <td>8.431</td>\n",
       "      <td>8.331</td>\n",
       "      <td>8.229</td>\n",
       "      <td>8.144</td>\n",
       "      <td>8.083</td>\n",
       "      <td>8.006</td>\n",
       "      <td>7.917</td>\n",
       "      <td>7.840</td>\n",
       "      <td>1</td>\n",
       "    </tr>\n",
       "    <tr>\n",
       "      <td>1</td>\n",
       "      <td>7.840</td>\n",
       "      <td>7.801</td>\n",
       "      <td>7.743</td>\n",
       "      <td>7.688</td>\n",
       "      <td>7.630</td>\n",
       "      <td>7.575</td>\n",
       "      <td>7.567</td>\n",
       "      <td>7.517</td>\n",
       "      <td>7.467</td>\n",
       "      <td>7.470</td>\n",
       "      <td>7.395</td>\n",
       "      <td>1</td>\n",
       "    </tr>\n",
       "    <tr>\n",
       "      <td>2</td>\n",
       "      <td>7.395</td>\n",
       "      <td>7.357</td>\n",
       "      <td>7.310</td>\n",
       "      <td>7.285</td>\n",
       "      <td>7.266</td>\n",
       "      <td>7.260</td>\n",
       "      <td>7.210</td>\n",
       "      <td>7.180</td>\n",
       "      <td>7.150</td>\n",
       "      <td>7.130</td>\n",
       "      <td>7.056</td>\n",
       "      <td>1</td>\n",
       "    </tr>\n",
       "    <tr>\n",
       "      <td>3</td>\n",
       "      <td>7.056</td>\n",
       "      <td>7.050</td>\n",
       "      <td>7.039</td>\n",
       "      <td>6.995</td>\n",
       "      <td>6.984</td>\n",
       "      <td>6.931</td>\n",
       "      <td>6.945</td>\n",
       "      <td>6.898</td>\n",
       "      <td>6.879</td>\n",
       "      <td>6.846</td>\n",
       "      <td>6.832</td>\n",
       "      <td>1</td>\n",
       "    </tr>\n",
       "    <tr>\n",
       "      <td>4</td>\n",
       "      <td>6.832</td>\n",
       "      <td>6.807</td>\n",
       "      <td>6.771</td>\n",
       "      <td>6.730</td>\n",
       "      <td>6.711</td>\n",
       "      <td>6.680</td>\n",
       "      <td>6.655</td>\n",
       "      <td>6.639</td>\n",
       "      <td>6.622</td>\n",
       "      <td>6.603</td>\n",
       "      <td>6.568</td>\n",
       "      <td>1</td>\n",
       "    </tr>\n",
       "    <tr>\n",
       "      <td>...</td>\n",
       "      <td>...</td>\n",
       "      <td>...</td>\n",
       "      <td>...</td>\n",
       "      <td>...</td>\n",
       "      <td>...</td>\n",
       "      <td>...</td>\n",
       "      <td>...</td>\n",
       "      <td>...</td>\n",
       "      <td>...</td>\n",
       "      <td>...</td>\n",
       "      <td>...</td>\n",
       "      <td>...</td>\n",
       "    </tr>\n",
       "    <tr>\n",
       "      <td>70640</td>\n",
       "      <td>1.563</td>\n",
       "      <td>1.560</td>\n",
       "      <td>1.572</td>\n",
       "      <td>1.566</td>\n",
       "      <td>1.558</td>\n",
       "      <td>1.572</td>\n",
       "      <td>1.580</td>\n",
       "      <td>1.580</td>\n",
       "      <td>1.572</td>\n",
       "      <td>1.591</td>\n",
       "      <td>1.588</td>\n",
       "      <td>1</td>\n",
       "    </tr>\n",
       "    <tr>\n",
       "      <td>70641</td>\n",
       "      <td>1.588</td>\n",
       "      <td>1.572</td>\n",
       "      <td>1.586</td>\n",
       "      <td>1.586</td>\n",
       "      <td>1.611</td>\n",
       "      <td>1.586</td>\n",
       "      <td>1.591</td>\n",
       "      <td>1.594</td>\n",
       "      <td>1.594</td>\n",
       "      <td>1.603</td>\n",
       "      <td>1.608</td>\n",
       "      <td>1</td>\n",
       "    </tr>\n",
       "    <tr>\n",
       "      <td>70642</td>\n",
       "      <td>1.608</td>\n",
       "      <td>1.628</td>\n",
       "      <td>1.614</td>\n",
       "      <td>1.616</td>\n",
       "      <td>1.622</td>\n",
       "      <td>1.631</td>\n",
       "      <td>1.642</td>\n",
       "      <td>1.622</td>\n",
       "      <td>1.656</td>\n",
       "      <td>1.650</td>\n",
       "      <td>1.639</td>\n",
       "      <td>1</td>\n",
       "    </tr>\n",
       "    <tr>\n",
       "      <td>70643</td>\n",
       "      <td>1.639</td>\n",
       "      <td>1.625</td>\n",
       "      <td>1.650</td>\n",
       "      <td>1.659</td>\n",
       "      <td>1.639</td>\n",
       "      <td>1.653</td>\n",
       "      <td>1.670</td>\n",
       "      <td>1.681</td>\n",
       "      <td>1.673</td>\n",
       "      <td>1.692</td>\n",
       "      <td>1.706</td>\n",
       "      <td>1</td>\n",
       "    </tr>\n",
       "    <tr>\n",
       "      <td>70644</td>\n",
       "      <td>1.706</td>\n",
       "      <td>1.675</td>\n",
       "      <td>1.687</td>\n",
       "      <td>1.698</td>\n",
       "      <td>1.689</td>\n",
       "      <td>1.684</td>\n",
       "      <td>1.692</td>\n",
       "      <td>1.717</td>\n",
       "      <td>1.709</td>\n",
       "      <td>1.706</td>\n",
       "      <td>1.740</td>\n",
       "      <td>1</td>\n",
       "    </tr>\n",
       "  </tbody>\n",
       "</table>\n",
       "<p>70645 rows × 12 columns</p>\n",
       "</div>"
      ],
      "text/plain": [
       "           0      1      2      3      4      5      6      7      8      9  \\\n",
       "0      8.768  8.652  8.533  8.431  8.331  8.229  8.144  8.083  8.006  7.917   \n",
       "1      7.840  7.801  7.743  7.688  7.630  7.575  7.567  7.517  7.467  7.470   \n",
       "2      7.395  7.357  7.310  7.285  7.266  7.260  7.210  7.180  7.150  7.130   \n",
       "3      7.056  7.050  7.039  6.995  6.984  6.931  6.945  6.898  6.879  6.846   \n",
       "4      6.832  6.807  6.771  6.730  6.711  6.680  6.655  6.639  6.622  6.603   \n",
       "...      ...    ...    ...    ...    ...    ...    ...    ...    ...    ...   \n",
       "70640  1.563  1.560  1.572  1.566  1.558  1.572  1.580  1.580  1.572  1.591   \n",
       "70641  1.588  1.572  1.586  1.586  1.611  1.586  1.591  1.594  1.594  1.603   \n",
       "70642  1.608  1.628  1.614  1.616  1.622  1.631  1.642  1.622  1.656  1.650   \n",
       "70643  1.639  1.625  1.650  1.659  1.639  1.653  1.670  1.681  1.673  1.692   \n",
       "70644  1.706  1.675  1.687  1.698  1.689  1.684  1.692  1.717  1.709  1.706   \n",
       "\n",
       "          10  label  \n",
       "0      7.840      1  \n",
       "1      7.395      1  \n",
       "2      7.056      1  \n",
       "3      6.832      1  \n",
       "4      6.568      1  \n",
       "...      ...    ...  \n",
       "70640  1.588      1  \n",
       "70641  1.608      1  \n",
       "70642  1.639      1  \n",
       "70643  1.706      1  \n",
       "70644  1.740      1  \n",
       "\n",
       "[70645 rows x 12 columns]"
      ]
     },
     "execution_count": 93,
     "metadata": {},
     "output_type": "execute_result"
    }
   ],
   "source": [
    "tmp"
   ]
  },
  {
   "cell_type": "code",
   "execution_count": 94,
   "metadata": {
    "colab": {},
    "colab_type": "code",
    "id": "iAdq7YsETjYA"
   },
   "outputs": [],
   "source": [
    "x=tmp.iloc[:,:11]\n",
    "y=tmp['label']\n"
   ]
  },
  {
   "cell_type": "code",
   "execution_count": 95,
   "metadata": {
    "colab": {},
    "colab_type": "code",
    "id": "QCqb_lr8-95N"
   },
   "outputs": [],
   "source": [
    "from sklearn.model_selection import train_test_split\n",
    "X_train, X_test, y_train, y_test = train_test_split(x, y, test_size=0.30,random_state=10)"
   ]
  },
  {
   "cell_type": "code",
   "execution_count": 96,
   "metadata": {
    "colab": {
     "base_uri": "https://localhost:8080/",
     "height": 148
    },
    "colab_type": "code",
    "id": "FFz0teMrH0Zz",
    "outputId": "9b48244a-f233-4cc7-a1ab-29e96d354f78"
   },
   "outputs": [
    {
     "data": {
      "text/plain": [
       "RandomForestClassifier(bootstrap=True, class_weight=None, criterion='gini',\n",
       "                       max_depth=None, max_features='auto', max_leaf_nodes=None,\n",
       "                       min_impurity_decrease=0.0, min_impurity_split=None,\n",
       "                       min_samples_leaf=1, min_samples_split=2,\n",
       "                       min_weight_fraction_leaf=0.0, n_estimators='warn',\n",
       "                       n_jobs=None, oob_score=False, random_state=0, verbose=0,\n",
       "                       warm_start=False)"
      ]
     },
     "execution_count": 96,
     "metadata": {},
     "output_type": "execute_result"
    }
   ],
   "source": [
    "from sklearn.ensemble import RandomForestClassifier  \n",
    "\n",
    "rf = RandomForestClassifier(random_state=0)  \n",
    "rf"
   ]
  },
  {
   "cell_type": "code",
   "execution_count": 97,
   "metadata": {
    "colab": {
     "base_uri": "https://localhost:8080/",
     "height": 93
    },
    "colab_type": "code",
    "id": "I6DCgmt9-GT6",
    "outputId": "c7727c20-48fa-47eb-b715-e657aea3555b"
   },
   "outputs": [
    {
     "data": {
      "text/plain": [
       "0.998362014923864"
      ]
     },
     "execution_count": 97,
     "metadata": {},
     "output_type": "execute_result"
    }
   ],
   "source": [
    "rf_model = rf.fit(X_train, y_train)  \n",
    "# training accuracy varia tra 98% e 99.74%\n",
    "rf_model.score(X_train, y_train)"
   ]
  },
  {
   "cell_type": "code",
   "execution_count": 98,
   "metadata": {},
   "outputs": [],
   "source": [
    "import warnings\n",
    "\n",
    "warnings.simplefilter(\"ignore\")"
   ]
  },
  {
   "cell_type": "code",
   "execution_count": 99,
   "metadata": {
    "colab": {
     "base_uri": "https://localhost:8080/",
     "height": 36
    },
    "colab_type": "code",
    "id": "1bKRKP4RV8fm",
    "outputId": "3695c404-ac61-47e0-d7aa-5b3c7d114c51"
   },
   "outputs": [
    {
     "data": {
      "text/plain": [
       "0.9719260167972068"
      ]
     },
     "execution_count": 99,
     "metadata": {},
     "output_type": "execute_result"
    }
   ],
   "source": [
    "predicted = pd.DataFrame(rf_model.predict(X_test))  \n",
    "probs = pd.DataFrame(rf_model.predict_proba(X_test))\n",
    "from sklearn import metrics  \n",
    "\n",
    "# Store metrics\n",
    "rf_accuracy = metrics.accuracy_score(y_test, predicted)  \n",
    "rf_accuracy"
   ]
  },
  {
   "cell_type": "code",
   "execution_count": 100,
   "metadata": {
    "colab": {},
    "colab_type": "code",
    "id": "rsmfYqNy4uZy"
   },
   "outputs": [],
   "source": [
    "y_pred =rf_model.predict(X_test)\n"
   ]
  },
  {
   "cell_type": "code",
   "execution_count": 101,
   "metadata": {
    "colab": {
     "base_uri": "https://localhost:8080/",
     "height": 424
    },
    "colab_type": "code",
    "id": "qCZXE_WP409s",
    "outputId": "d39718b3-9411-4cec-95e6-71a137d0f144"
   },
   "outputs": [
    {
     "data": {
      "text/html": [
       "<div>\n",
       "<style scoped>\n",
       "    .dataframe tbody tr th:only-of-type {\n",
       "        vertical-align: middle;\n",
       "    }\n",
       "\n",
       "    .dataframe tbody tr th {\n",
       "        vertical-align: top;\n",
       "    }\n",
       "\n",
       "    .dataframe thead th {\n",
       "        text-align: right;\n",
       "    }\n",
       "</style>\n",
       "<table border=\"1\" class=\"dataframe\">\n",
       "  <thead>\n",
       "    <tr style=\"text-align: right;\">\n",
       "      <th></th>\n",
       "      <th>Actual</th>\n",
       "      <th>Predicted</th>\n",
       "    </tr>\n",
       "  </thead>\n",
       "  <tbody>\n",
       "    <tr>\n",
       "      <td>67579</td>\n",
       "      <td>1</td>\n",
       "      <td>1</td>\n",
       "    </tr>\n",
       "    <tr>\n",
       "      <td>63301</td>\n",
       "      <td>1</td>\n",
       "      <td>1</td>\n",
       "    </tr>\n",
       "    <tr>\n",
       "      <td>30921</td>\n",
       "      <td>0</td>\n",
       "      <td>0</td>\n",
       "    </tr>\n",
       "    <tr>\n",
       "      <td>32250</td>\n",
       "      <td>1</td>\n",
       "      <td>0</td>\n",
       "    </tr>\n",
       "    <tr>\n",
       "      <td>57981</td>\n",
       "      <td>1</td>\n",
       "      <td>1</td>\n",
       "    </tr>\n",
       "    <tr>\n",
       "      <td>...</td>\n",
       "      <td>...</td>\n",
       "      <td>...</td>\n",
       "    </tr>\n",
       "    <tr>\n",
       "      <td>20953</td>\n",
       "      <td>0</td>\n",
       "      <td>0</td>\n",
       "    </tr>\n",
       "    <tr>\n",
       "      <td>27610</td>\n",
       "      <td>0</td>\n",
       "      <td>0</td>\n",
       "    </tr>\n",
       "    <tr>\n",
       "      <td>37564</td>\n",
       "      <td>0</td>\n",
       "      <td>0</td>\n",
       "    </tr>\n",
       "    <tr>\n",
       "      <td>40086</td>\n",
       "      <td>1</td>\n",
       "      <td>1</td>\n",
       "    </tr>\n",
       "    <tr>\n",
       "      <td>9353</td>\n",
       "      <td>1</td>\n",
       "      <td>1</td>\n",
       "    </tr>\n",
       "  </tbody>\n",
       "</table>\n",
       "<p>21194 rows × 2 columns</p>\n",
       "</div>"
      ],
      "text/plain": [
       "       Actual  Predicted\n",
       "67579       1          1\n",
       "63301       1          1\n",
       "30921       0          0\n",
       "32250       1          0\n",
       "57981       1          1\n",
       "...       ...        ...\n",
       "20953       0          0\n",
       "27610       0          0\n",
       "37564       0          0\n",
       "40086       1          1\n",
       "9353        1          1\n",
       "\n",
       "[21194 rows x 2 columns]"
      ]
     },
     "execution_count": 101,
     "metadata": {},
     "output_type": "execute_result"
    }
   ],
   "source": [
    "dff=pd.DataFrame({'Actual':y_test, 'Predicted':y_pred})\n",
    "dff"
   ]
  },
  {
   "cell_type": "code",
   "execution_count": 106,
   "metadata": {},
   "outputs": [
    {
     "data": {
      "text/html": [
       "<div>\n",
       "<style scoped>\n",
       "    .dataframe tbody tr th:only-of-type {\n",
       "        vertical-align: middle;\n",
       "    }\n",
       "\n",
       "    .dataframe tbody tr th {\n",
       "        vertical-align: top;\n",
       "    }\n",
       "\n",
       "    .dataframe thead th {\n",
       "        text-align: right;\n",
       "    }\n",
       "</style>\n",
       "<table border=\"1\" class=\"dataframe\">\n",
       "  <thead>\n",
       "    <tr style=\"text-align: right;\">\n",
       "      <th></th>\n",
       "      <th>Actual</th>\n",
       "      <th>Predicted</th>\n",
       "    </tr>\n",
       "  </thead>\n",
       "  <tbody>\n",
       "    <tr>\n",
       "      <td>67579</td>\n",
       "      <td>1</td>\n",
       "      <td>1</td>\n",
       "    </tr>\n",
       "    <tr>\n",
       "      <td>63301</td>\n",
       "      <td>1</td>\n",
       "      <td>1</td>\n",
       "    </tr>\n",
       "    <tr>\n",
       "      <td>30921</td>\n",
       "      <td>0</td>\n",
       "      <td>0</td>\n",
       "    </tr>\n",
       "    <tr>\n",
       "      <td>32250</td>\n",
       "      <td>1</td>\n",
       "      <td>0</td>\n",
       "    </tr>\n",
       "    <tr>\n",
       "      <td>57981</td>\n",
       "      <td>1</td>\n",
       "      <td>1</td>\n",
       "    </tr>\n",
       "    <tr>\n",
       "      <td>5591</td>\n",
       "      <td>0</td>\n",
       "      <td>0</td>\n",
       "    </tr>\n",
       "    <tr>\n",
       "      <td>5942</td>\n",
       "      <td>0</td>\n",
       "      <td>0</td>\n",
       "    </tr>\n",
       "    <tr>\n",
       "      <td>64822</td>\n",
       "      <td>1</td>\n",
       "      <td>1</td>\n",
       "    </tr>\n",
       "    <tr>\n",
       "      <td>3252</td>\n",
       "      <td>0</td>\n",
       "      <td>0</td>\n",
       "    </tr>\n",
       "    <tr>\n",
       "      <td>28213</td>\n",
       "      <td>0</td>\n",
       "      <td>0</td>\n",
       "    </tr>\n",
       "    <tr>\n",
       "      <td>15086</td>\n",
       "      <td>1</td>\n",
       "      <td>1</td>\n",
       "    </tr>\n",
       "    <tr>\n",
       "      <td>7533</td>\n",
       "      <td>1</td>\n",
       "      <td>1</td>\n",
       "    </tr>\n",
       "    <tr>\n",
       "      <td>9977</td>\n",
       "      <td>1</td>\n",
       "      <td>1</td>\n",
       "    </tr>\n",
       "    <tr>\n",
       "      <td>20379</td>\n",
       "      <td>0</td>\n",
       "      <td>0</td>\n",
       "    </tr>\n",
       "    <tr>\n",
       "      <td>29987</td>\n",
       "      <td>0</td>\n",
       "      <td>0</td>\n",
       "    </tr>\n",
       "  </tbody>\n",
       "</table>\n",
       "</div>"
      ],
      "text/plain": [
       "       Actual  Predicted\n",
       "67579       1          1\n",
       "63301       1          1\n",
       "30921       0          0\n",
       "32250       1          0\n",
       "57981       1          1\n",
       "5591        0          0\n",
       "5942        0          0\n",
       "64822       1          1\n",
       "3252        0          0\n",
       "28213       0          0\n",
       "15086       1          1\n",
       "7533        1          1\n",
       "9977        1          1\n",
       "20379       0          0\n",
       "29987       0          0"
      ]
     },
     "execution_count": 106,
     "metadata": {},
     "output_type": "execute_result"
    }
   ],
   "source": [
    "dff.head(15)"
   ]
  },
  {
   "cell_type": "code",
   "execution_count": 107,
   "metadata": {
    "colab": {},
    "colab_type": "code",
    "id": "0XeDwRrH37Ev"
   },
   "outputs": [],
   "source": [
    "d=pd.DataFrame()\n"
   ]
  },
  {
   "cell_type": "code",
   "execution_count": 108,
   "metadata": {
    "colab": {},
    "colab_type": "code",
    "id": "FCt37gL3Xrxo"
   },
   "outputs": [],
   "source": [
    "rf_roc_auc = metrics.roc_auc_score(y_test, probs[1])  \n",
    "rf_confus_matrix = metrics.confusion_matrix(y_test, predicted)  \n",
    "rf_classification_report = metrics.classification_report(y_test, predicted)  \n",
    "rf_precision = metrics.precision_score(y_test, predicted, pos_label=1)  \n",
    "rf_recall = metrics.recall_score(y_test, predicted, pos_label=1)  \n",
    "rf_f1 = metrics.f1_score(y_test, predicted, pos_label=1)"
   ]
  },
  {
   "cell_type": "code",
   "execution_count": 109,
   "metadata": {
    "colab": {
     "base_uri": "https://localhost:8080/",
     "height": 54
    },
    "colab_type": "code",
    "id": "NRP03OtUCFLU",
    "outputId": "e40f134b-fccb-4539-83f1-1ac90ff3a678"
   },
   "outputs": [
    {
     "data": {
      "text/plain": [
       "array([[ 8339,   241],\n",
       "       [  354, 12260]], dtype=int64)"
      ]
     },
     "execution_count": 109,
     "metadata": {},
     "output_type": "execute_result"
    }
   ],
   "source": [
    "rf_confus_matrix"
   ]
  },
  {
   "cell_type": "code",
   "execution_count": 110,
   "metadata": {
    "colab": {
     "base_uri": "https://localhost:8080/",
     "height": 56
    },
    "colab_type": "code",
    "id": "zYhziR3sCHKx",
    "outputId": "d10a4c6e-f037-47c9-cc35-871a1efa3fea"
   },
   "outputs": [
    {
     "data": {
      "text/plain": [
       "'              precision    recall  f1-score   support\\n\\n           0       0.96      0.97      0.97      8580\\n           1       0.98      0.97      0.98     12614\\n\\n    accuracy                           0.97     21194\\n   macro avg       0.97      0.97      0.97     21194\\nweighted avg       0.97      0.97      0.97     21194\\n'"
      ]
     },
     "execution_count": 110,
     "metadata": {},
     "output_type": "execute_result"
    }
   ],
   "source": [
    "rf_classification_report"
   ]
  },
  {
   "cell_type": "code",
   "execution_count": null,
   "metadata": {
    "colab": {},
    "colab_type": "code",
    "id": "0WEHFr0VF8_Q"
   },
   "outputs": [],
   "source": []
  },
  {
   "cell_type": "code",
   "execution_count": null,
   "metadata": {},
   "outputs": [],
   "source": []
  },
  {
   "cell_type": "code",
   "execution_count": null,
   "metadata": {},
   "outputs": [],
   "source": []
  },
  {
   "cell_type": "code",
   "execution_count": null,
   "metadata": {},
   "outputs": [],
   "source": []
  },
  {
   "cell_type": "code",
   "execution_count": null,
   "metadata": {},
   "outputs": [],
   "source": []
  },
  {
   "cell_type": "code",
   "execution_count": null,
   "metadata": {},
   "outputs": [],
   "source": []
  },
  {
   "cell_type": "code",
   "execution_count": null,
   "metadata": {},
   "outputs": [],
   "source": []
  },
  {
   "cell_type": "code",
   "execution_count": null,
   "metadata": {},
   "outputs": [],
   "source": []
  },
  {
   "cell_type": "code",
   "execution_count": null,
   "metadata": {},
   "outputs": [],
   "source": []
  },
  {
   "cell_type": "code",
   "execution_count": null,
   "metadata": {},
   "outputs": [],
   "source": []
  },
  {
   "cell_type": "code",
   "execution_count": null,
   "metadata": {},
   "outputs": [],
   "source": []
  },
  {
   "cell_type": "code",
   "execution_count": null,
   "metadata": {},
   "outputs": [],
   "source": []
  },
  {
   "cell_type": "code",
   "execution_count": null,
   "metadata": {},
   "outputs": [],
   "source": []
  },
  {
   "cell_type": "code",
   "execution_count": null,
   "metadata": {},
   "outputs": [],
   "source": []
  }
 ],
 "metadata": {
  "colab": {
   "collapsed_sections": [],
   "name": "lourawork",
   "provenance": []
  },
  "kernelspec": {
   "display_name": "Python 3",
   "language": "python",
   "name": "python3"
  },
  "language_info": {
   "codemirror_mode": {
    "name": "ipython",
    "version": 3
   },
   "file_extension": ".py",
   "mimetype": "text/x-python",
   "name": "python",
   "nbconvert_exporter": "python",
   "pygments_lexer": "ipython3",
   "version": "3.7.4"
  }
 },
 "nbformat": 4,
 "nbformat_minor": 1
}
